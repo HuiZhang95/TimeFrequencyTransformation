{
 "cells": [
  {
   "cell_type": "code",
   "execution_count": null,
   "id": "ccac7ba8-1392-4ccd-9aeb-6ccd17206d20",
   "metadata": {
    "tags": []
   },
   "outputs": [],
   "source": [
    "import scipy.io\n",
    "tmpData = scipy.io.loadmat('EEG_tmp.mat')\n",
    "type(tmpData)"
   ]
  },
  {
   "cell_type": "code",
   "execution_count": null,
   "id": "3f190eca-116d-4075-ae81-4258a6aa7632",
   "metadata": {
    "tags": []
   },
   "outputs": [],
   "source": [
    "for keys,values in tmpData.items():\n",
    "    print(keys)\n",
    "    print(values)"
   ]
  },
  {
   "cell_type": "code",
   "execution_count": null,
   "id": "ae5c0f0e-d3f9-4997-86ad-ed7a0ac29dd7",
   "metadata": {
    "tags": []
   },
   "outputs": [],
   "source": [
    "for keys,values in tmpData.items():\n",
    "    print(keys)"
   ]
  },
  {
   "cell_type": "code",
   "execution_count": null,
   "id": "b769e1c2-5fe0-485d-8041-3cd375a2410b",
   "metadata": {
    "tags": []
   },
   "outputs": [],
   "source": [
    "for x in tmpData:\n",
    "    print (x)\n"
   ]
  },
  {
   "cell_type": "code",
   "execution_count": null,
   "id": "5fc9354d-0808-4bbd-9045-0ce6c49158d6",
   "metadata": {
    "tags": []
   },
   "outputs": [],
   "source": [
    "import numpy\n",
    "\n",
    "tmp = \"EEG\"\n",
    "tmp1 = tmpData[tmp]\n",
    "type(tmp1)\n",
    "tmp1.shape\n",
    "tmp2 = tmp1[0][0]\n",
    "type(tmp2)\n",
    "#print(tmp2)\n",
    "len(tmp2)\n",
    "\n",
    "tmpLen = 1810400\n",
    "newArry = numpy.ones((3,tmpLen), dtype=float)\n",
    "count = 0\n",
    "for idx in range(len(tmp2)):\n",
    "    print(idx)\n",
    "    tmp3 = tmp2[idx]\n",
    "    \n",
    "    if len(tmp3)>0:\n",
    "        if len(tmp3[0])==tmpLen:\n",
    "            print(tmp3[0])\n",
    "            newArry[count,:] = tmp3[0]\n",
    "            count=count+1\n",
    "\n",
    "    "
   ]
  },
  {
   "cell_type": "code",
   "execution_count": null,
   "id": "2ade3f79-a0e0-4cdb-8151-ff7f15268872",
   "metadata": {
    "tags": []
   },
   "outputs": [],
   "source": [
    "print(newArry)"
   ]
  },
  {
   "cell_type": "code",
   "execution_count": null,
   "id": "fdf12b18-4c8d-4144-a1bf-b69858af192e",
   "metadata": {},
   "outputs": [],
   "source": [
    "import matplotlib.pyplot as plt\n",
    "import numpy as np\n",
    "x = np.linspace(1,tmpLen,tmpLen)\n",
    "y = newArry[1][:]\n",
    "\n",
    "fig, ax = plt.subplots(figsize=(10, 2.7), layout='constrained')\n",
    "ax.plot(x, y,'go--', linewidth=2, markersize=1)\n",
    "\n",
    "ax.set(xlabel='time (msec)', ylabel='EEG amplitude (mV)',\n",
    "       title='raw data')\n",
    "plt.xlim(0, tmpLen)\n",
    "#ax.grid(on=None)\n",
    "#fig.savefig(\"test.png\")\n",
    "plt.show()\n"
   ]
  },
  {
   "cell_type": "code",
   "execution_count": null,
   "id": "eede007f-e3b2-4482-a1a9-b8bfa213856b",
   "metadata": {
    "tags": []
   },
   "outputs": [],
   "source": []
  },
  {
   "cell_type": "code",
   "execution_count": null,
   "id": "ec930156-c91b-40ee-8bc8-4b98dbf7b745",
   "metadata": {
    "tags": []
   },
   "outputs": [],
   "source": [
    "import sys\n",
    "import numpy as np\n",
    "sys.path.insert(0, \"./pyFunctions\")\n",
    "import time_freq_demo as tf\n",
    "Fs = 1000\n",
    "freqs = np.linspace(1,150,150)\n",
    "y = numpy.ones((1,tmpLen), dtype=float)\n",
    "y[0][:] = newArry[1][:]\n",
    "tmpy=tf.cwt_morlet(y, Fs, freqs, use_fft=False, n_cycles=7.0)"
   ]
  },
  {
   "cell_type": "code",
   "execution_count": null,
   "id": "47e218e8-b0b3-4eeb-b2dc-0e22d007780f",
   "metadata": {},
   "outputs": [],
   "source": []
  },
  {
   "cell_type": "code",
   "execution_count": null,
   "id": "eadf011a-a88b-4be7-9104-df6ad2d32161",
   "metadata": {
    "tags": []
   },
   "outputs": [],
   "source": [
    "import matplotlib.pyplot as plt\n",
    "tmpy1 = np.squeeze(tmpy)\n",
    "tmpy1 = float(abs(tmpy1))\n",
    "freqNoAll,timeNoAll=tmpy1.shape\n",
    "\n",
    "fig, ax = plt.subplots()\n",
    "im = ax.imshow(tmpy1)\n",
    "\n",
    "# Show all ticks and label them with the respective list entries\n",
    "ax.set_xticks(np.arange(timeNoAll), labels=time)\n",
    "ax.set_yticks(np.arange(freqNoAll), labels=freq)\n",
    "\n",
    "# Rotate the tick labels and set their alignment.\n",
    "plt.setp(ax.get_xticklabels(), rotation=45, ha=\"right\",\n",
    "         rotation_mode=\"anchor\")\n",
    "\n",
    "# Loop over data dimensions and create text annotations.\n",
    "#for i in range(timeNoAll):\n",
    "#    for j in range(freqNoAll):\n",
    "#        text = ax.text(j, i, harvest[i, j],\n",
    "#                       ha=\"center\", va=\"center\", color=\"w\")\n",
    "\n",
    "ax.set_title(\"time-freq spectrum\")\n",
    "fig.tight_layout()\n",
    "plt.show()"
   ]
  },
  {
   "cell_type": "code",
   "execution_count": null,
   "id": "78dc5afb-d404-46af-9478-a7b10e0aef62",
   "metadata": {
    "tags": []
   },
   "outputs": [],
   "source": [
    "tmpy1 = np.squeeze(tmpy)\n",
    "freqNoAll,timeNoAll=tmpy1.shape\n",
    "print(freqNoAll,timeNoAll)\n",
    "tmpy1 = np.conjugate(tmpy1) * tmpy1\n",
    "print(tmpy1)"
   ]
  },
  {
   "cell_type": "code",
   "execution_count": null,
   "id": "c360c7fe-73c9-4b35-bd70-e2f6e7cd5f12",
   "metadata": {
    "tags": []
   },
   "outputs": [],
   "source": [
    "tmpy1 = np.squeeze(tmpy)\n",
    "print(tmpy1)"
   ]
  },
  {
   "cell_type": "code",
   "execution_count": null,
   "id": "dd021696-8232-4df8-9caa-6bf59a667580",
   "metadata": {
    "tags": []
   },
   "outputs": [],
   "source": [
    "test = np.conjugate(-286.16723511-920.83042064j)*(-286.16723511-920.83042064j)\n",
    "print(test)"
   ]
  },
  {
   "cell_type": "code",
   "execution_count": null,
   "id": "2c30d464-310b-4672-bcf8-dfe64a0a72e0",
   "metadata": {
    "tags": []
   },
   "outputs": [],
   "source": [
    "print(float(abs(-286.16723511-920.83042064j))**2 )"
   ]
  },
  {
   "cell_type": "code",
   "execution_count": null,
   "id": "fd5bd2f5-f257-4c0b-83b3-1d55a9a9ea4c",
   "metadata": {
    "tags": []
   },
   "outputs": [],
   "source": [
    "tmpy1 = np.squeeze(tmpy)\n",
    "newarr = tmpy1.reshape(freqNoAll*timeNoAll,1)\n",
    "tmpy2 = float(abs(newarr))\n",
    "print(tmpy2)"
   ]
  },
  {
   "cell_type": "code",
   "execution_count": null,
   "id": "776ee3d1-bb29-4430-9578-3667610249e3",
   "metadata": {},
   "outputs": [],
   "source": [
    "tmpy1 = np.squeeze(tmpy)\n",
    "w, h = freqNoAll,timeNoAll\n",
    "tmpM = tmpy1 \n",
    "for idx1 in range(freqNoAll):\n",
    "    for idx2 in range(timeNoAll):\n",
    "        tmpMi = float(abs(tmpy1[idx1][idx2]))**2\n",
    "        print(idx1,idx2,tmpMi)\n",
    "        tmpM[idx1][idx2] = tmpMi\n",
    "        \n"
   ]
  },
  {
   "cell_type": "code",
   "execution_count": null,
   "id": "fa1dd73e-4cfb-40fc-bccc-f965765e2504",
   "metadata": {
    "tags": []
   },
   "outputs": [],
   "source": [
    "print(tmpy1[0][200])"
   ]
  },
  {
   "cell_type": "code",
   "execution_count": null,
   "id": "106eedab-3121-4bba-ac14-9cb590760613",
   "metadata": {
    "tags": []
   },
   "outputs": [],
   "source": [
    "w, h = freqNoAll,timeNoAll\n",
    "tmpM = [[0 for x in range(w)] for y in range(h)] \n",
    "tmpM.shape"
   ]
  },
  {
   "cell_type": "code",
   "execution_count": null,
   "id": "781837ca-454b-460b-b79b-d030f5de5a34",
   "metadata": {},
   "outputs": [],
   "source": []
  }
 ],
 "metadata": {
  "kernelspec": {
   "display_name": "Python 3 (ipykernel)",
   "language": "python",
   "name": "python3"
  },
  "language_info": {
   "codemirror_mode": {
    "name": "ipython",
    "version": 3
   },
   "file_extension": ".py",
   "mimetype": "text/x-python",
   "name": "python",
   "nbconvert_exporter": "python",
   "pygments_lexer": "ipython3",
   "version": "3.11.5"
  },
  "toc-autonumbering": true,
  "toc-showmarkdowntxt": false,
  "toc-showtags": false
 },
 "nbformat": 4,
 "nbformat_minor": 5
}
